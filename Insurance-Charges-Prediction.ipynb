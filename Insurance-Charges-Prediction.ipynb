{
  "cells": [
    {
      "cell_type": "markdown",
      "metadata": {
        "id": "BX3gzmE26OYK"
      },
      "source": [
        "# **Linear Regression Model**"
      ]
    },
    {
      "cell_type": "markdown",
      "metadata": {
        "id": "kZvX2FbQ8z1Z"
      },
      "source": [
        "### Data Pre-Processing"
      ]
    },
    {
      "cell_type": "code",
      "execution_count": 1,
      "metadata": {
        "colab": {
          "base_uri": "https://localhost:8080/",
          "height": 206
        },
        "id": "lZipZenW50Zh",
        "outputId": "6f4f7ae8-220a-41b0-ab5f-902da3476bef"
      },
      "outputs": [
        {
          "data": {
            "text/html": [
              "<div>\n",
              "<style scoped>\n",
              "    .dataframe tbody tr th:only-of-type {\n",
              "        vertical-align: middle;\n",
              "    }\n",
              "\n",
              "    .dataframe tbody tr th {\n",
              "        vertical-align: top;\n",
              "    }\n",
              "\n",
              "    .dataframe thead th {\n",
              "        text-align: right;\n",
              "    }\n",
              "</style>\n",
              "<table border=\"1\" class=\"dataframe\">\n",
              "  <thead>\n",
              "    <tr style=\"text-align: right;\">\n",
              "      <th></th>\n",
              "      <th>age</th>\n",
              "      <th>sex</th>\n",
              "      <th>bmi</th>\n",
              "      <th>children</th>\n",
              "      <th>smoker</th>\n",
              "      <th>region</th>\n",
              "      <th>charges</th>\n",
              "    </tr>\n",
              "  </thead>\n",
              "  <tbody>\n",
              "    <tr>\n",
              "      <th>0</th>\n",
              "      <td>19</td>\n",
              "      <td>female</td>\n",
              "      <td>27.900</td>\n",
              "      <td>0</td>\n",
              "      <td>yes</td>\n",
              "      <td>southwest</td>\n",
              "      <td>16884.92400</td>\n",
              "    </tr>\n",
              "    <tr>\n",
              "      <th>1</th>\n",
              "      <td>18</td>\n",
              "      <td>male</td>\n",
              "      <td>33.770</td>\n",
              "      <td>1</td>\n",
              "      <td>no</td>\n",
              "      <td>southeast</td>\n",
              "      <td>1725.55230</td>\n",
              "    </tr>\n",
              "    <tr>\n",
              "      <th>2</th>\n",
              "      <td>28</td>\n",
              "      <td>male</td>\n",
              "      <td>33.000</td>\n",
              "      <td>3</td>\n",
              "      <td>no</td>\n",
              "      <td>southeast</td>\n",
              "      <td>4449.46200</td>\n",
              "    </tr>\n",
              "    <tr>\n",
              "      <th>3</th>\n",
              "      <td>33</td>\n",
              "      <td>male</td>\n",
              "      <td>22.705</td>\n",
              "      <td>0</td>\n",
              "      <td>no</td>\n",
              "      <td>northwest</td>\n",
              "      <td>21984.47061</td>\n",
              "    </tr>\n",
              "    <tr>\n",
              "      <th>4</th>\n",
              "      <td>32</td>\n",
              "      <td>male</td>\n",
              "      <td>28.880</td>\n",
              "      <td>0</td>\n",
              "      <td>no</td>\n",
              "      <td>northwest</td>\n",
              "      <td>3866.85520</td>\n",
              "    </tr>\n",
              "  </tbody>\n",
              "</table>\n",
              "</div>"
            ],
            "text/plain": [
              "   age     sex     bmi  children smoker     region      charges\n",
              "0   19  female  27.900         0    yes  southwest  16884.92400\n",
              "1   18    male  33.770         1     no  southeast   1725.55230\n",
              "2   28    male  33.000         3     no  southeast   4449.46200\n",
              "3   33    male  22.705         0     no  northwest  21984.47061\n",
              "4   32    male  28.880         0     no  northwest   3866.85520"
            ]
          },
          "execution_count": 1,
          "metadata": {},
          "output_type": "execute_result"
        }
      ],
      "source": [
        "#Import Libraries\n",
        "import numpy as nm  \n",
        "import matplotlib.pyplot as mtp  \n",
        "import pandas as pd   \n",
        "from sklearn.model_selection import train_test_split\n",
        "from sklearn.linear_model import LogisticRegression\n",
        "import matplotlib.pyplot as plt\n",
        "from sklearn.linear_model import LinearRegression\n",
        "from sklearn.metrics import mean_squared_error, r2_score\n",
        "from sklearn.metrics import mean_absolute_error\n",
        "from sklearn.metrics import mean_absolute_percentage_error\n",
        "\n",
        "#Reading the Data\n",
        "data = pd.read_csv(\"/Users/arnav/Desktop/Arnav Code/Introduction to Intelligent Systems/2021519_Assignment3/Q2_insurance_dataset.csv\")\n",
        "data.head()"
      ]
    },
    {
      "cell_type": "code",
      "execution_count": 2,
      "metadata": {
        "colab": {
          "base_uri": "https://localhost:8080/",
          "height": 206
        },
        "id": "bEPAHpsYClJo",
        "outputId": "1e56847e-8760-4e10-aacc-0d8d774c7cd7"
      },
      "outputs": [
        {
          "data": {
            "text/html": [
              "<div>\n",
              "<style scoped>\n",
              "    .dataframe tbody tr th:only-of-type {\n",
              "        vertical-align: middle;\n",
              "    }\n",
              "\n",
              "    .dataframe tbody tr th {\n",
              "        vertical-align: top;\n",
              "    }\n",
              "\n",
              "    .dataframe thead th {\n",
              "        text-align: right;\n",
              "    }\n",
              "</style>\n",
              "<table border=\"1\" class=\"dataframe\">\n",
              "  <thead>\n",
              "    <tr style=\"text-align: right;\">\n",
              "      <th></th>\n",
              "      <th>age</th>\n",
              "      <th>sex</th>\n",
              "      <th>bmi</th>\n",
              "      <th>children</th>\n",
              "      <th>smoker</th>\n",
              "      <th>region</th>\n",
              "      <th>charges</th>\n",
              "    </tr>\n",
              "  </thead>\n",
              "  <tbody>\n",
              "    <tr>\n",
              "      <th>0</th>\n",
              "      <td>19</td>\n",
              "      <td>0</td>\n",
              "      <td>27.900</td>\n",
              "      <td>0</td>\n",
              "      <td>1</td>\n",
              "      <td>1</td>\n",
              "      <td>16884.92400</td>\n",
              "    </tr>\n",
              "    <tr>\n",
              "      <th>1</th>\n",
              "      <td>18</td>\n",
              "      <td>1</td>\n",
              "      <td>33.770</td>\n",
              "      <td>1</td>\n",
              "      <td>0</td>\n",
              "      <td>2</td>\n",
              "      <td>1725.55230</td>\n",
              "    </tr>\n",
              "    <tr>\n",
              "      <th>2</th>\n",
              "      <td>28</td>\n",
              "      <td>1</td>\n",
              "      <td>33.000</td>\n",
              "      <td>3</td>\n",
              "      <td>0</td>\n",
              "      <td>2</td>\n",
              "      <td>4449.46200</td>\n",
              "    </tr>\n",
              "    <tr>\n",
              "      <th>3</th>\n",
              "      <td>33</td>\n",
              "      <td>1</td>\n",
              "      <td>22.705</td>\n",
              "      <td>0</td>\n",
              "      <td>0</td>\n",
              "      <td>4</td>\n",
              "      <td>21984.47061</td>\n",
              "    </tr>\n",
              "    <tr>\n",
              "      <th>4</th>\n",
              "      <td>32</td>\n",
              "      <td>1</td>\n",
              "      <td>28.880</td>\n",
              "      <td>0</td>\n",
              "      <td>0</td>\n",
              "      <td>4</td>\n",
              "      <td>3866.85520</td>\n",
              "    </tr>\n",
              "  </tbody>\n",
              "</table>\n",
              "</div>"
            ],
            "text/plain": [
              "   age  sex     bmi  children  smoker  region      charges\n",
              "0   19    0  27.900         0       1       1  16884.92400\n",
              "1   18    1  33.770         1       0       2   1725.55230\n",
              "2   28    1  33.000         3       0       2   4449.46200\n",
              "3   33    1  22.705         0       0       4  21984.47061\n",
              "4   32    1  28.880         0       0       4   3866.85520"
            ]
          },
          "execution_count": 2,
          "metadata": {},
          "output_type": "execute_result"
        }
      ],
      "source": [
        "def bool_gender(x): #We given binary values to gender i.e. 0 for female and 1 for male\n",
        "    if x == 'female':\n",
        "      return 0\n",
        "    else:\n",
        "      return 1\n",
        "\n",
        "def bool_smoker(x): #We given binary values for smoking i.e. 0 for no and 1 for yes\n",
        "  if x == 'yes':\n",
        "    return 1\n",
        "  else:\n",
        "    return 0\n",
        "\n",
        "def bool_region(x): #We given int values for region\n",
        "  if x == 'southwest':\n",
        "    return 1\n",
        "  elif x == 'southeast':\n",
        "    return 2\n",
        "  elif x == 'northeast':\n",
        "    return 3\n",
        "  else:\n",
        "    return 4\n",
        "\n",
        "\n",
        "data['sex'] = data['sex'].apply(bool_gender)\n",
        "data['smoker'] = data['smoker'].apply(bool_smoker)\n",
        "data['region'] = data['region'].apply(bool_region)\n",
        "data.head()"
      ]
    },
    {
      "cell_type": "markdown",
      "metadata": {
        "id": "p3W-HVmyCk84"
      },
      "source": []
    },
    {
      "cell_type": "markdown",
      "metadata": {
        "id": "MeqR26hB8u3s"
      },
      "source": [
        "### Splitting the Dataset"
      ]
    },
    {
      "cell_type": "code",
      "execution_count": 3,
      "metadata": {
        "colab": {
          "base_uri": "https://localhost:8080/"
        },
        "id": "i5kTZcUY9HA8",
        "outputId": "1eb72777-2a7d-4d08-b7b5-09f40d62eee6"
      },
      "outputs": [
        {
          "name": "stdout",
          "output_type": "stream",
          "text": [
            "      age  sex     bmi  children  smoker  region\n",
            "0      19    0  27.900         0       1       1\n",
            "1      18    1  33.770         1       0       2\n",
            "2      28    1  33.000         3       0       2\n",
            "3      33    1  22.705         0       0       4\n",
            "4      32    1  28.880         0       0       4\n",
            "...   ...  ...     ...       ...     ...     ...\n",
            "1333   50    1  30.970         3       0       4\n",
            "1334   18    0  31.920         0       0       3\n",
            "1335   18    0  36.850         0       0       2\n",
            "1336   21    0  25.800         0       0       1\n",
            "1337   61    0  29.070         0       1       4\n",
            "\n",
            "[1338 rows x 6 columns]\n"
          ]
        }
      ],
      "source": [
        "arr1 = data[\"charges\"] #Array containing values of charges to be splitted\n",
        "arr2 = data.drop(['charges'], axis = 1) #Removes column containing charges from data and prepares arr2 for splitting\n",
        "print(arr2)\n",
        "\n",
        "#This command splits the data into a 80:20 ratio with 20% randomly chosen for testing.\n",
        "train_data, test_data, train_label, test_label = train_test_split(arr2, arr1, test_size = 0.2, random_state = 15)"
      ]
    },
    {
      "cell_type": "markdown",
      "metadata": {
        "id": "zNDigqXcAb8O"
      },
      "source": [
        "### Building & Training the Model"
      ]
    },
    {
      "cell_type": "code",
      "execution_count": 4,
      "metadata": {
        "colab": {
          "base_uri": "https://localhost:8080/"
        },
        "id": "7sac51itAgSl",
        "outputId": "92ba9e98-4eb2-4678-8f21-00a792c8e236"
      },
      "outputs": [
        {
          "data": {
            "text/html": [
              "<style>#sk-container-id-1 {color: black;background-color: white;}#sk-container-id-1 pre{padding: 0;}#sk-container-id-1 div.sk-toggleable {background-color: white;}#sk-container-id-1 label.sk-toggleable__label {cursor: pointer;display: block;width: 100%;margin-bottom: 0;padding: 0.3em;box-sizing: border-box;text-align: center;}#sk-container-id-1 label.sk-toggleable__label-arrow:before {content: \"▸\";float: left;margin-right: 0.25em;color: #696969;}#sk-container-id-1 label.sk-toggleable__label-arrow:hover:before {color: black;}#sk-container-id-1 div.sk-estimator:hover label.sk-toggleable__label-arrow:before {color: black;}#sk-container-id-1 div.sk-toggleable__content {max-height: 0;max-width: 0;overflow: hidden;text-align: left;background-color: #f0f8ff;}#sk-container-id-1 div.sk-toggleable__content pre {margin: 0.2em;color: black;border-radius: 0.25em;background-color: #f0f8ff;}#sk-container-id-1 input.sk-toggleable__control:checked~div.sk-toggleable__content {max-height: 200px;max-width: 100%;overflow: auto;}#sk-container-id-1 input.sk-toggleable__control:checked~label.sk-toggleable__label-arrow:before {content: \"▾\";}#sk-container-id-1 div.sk-estimator input.sk-toggleable__control:checked~label.sk-toggleable__label {background-color: #d4ebff;}#sk-container-id-1 div.sk-label input.sk-toggleable__control:checked~label.sk-toggleable__label {background-color: #d4ebff;}#sk-container-id-1 input.sk-hidden--visually {border: 0;clip: rect(1px 1px 1px 1px);clip: rect(1px, 1px, 1px, 1px);height: 1px;margin: -1px;overflow: hidden;padding: 0;position: absolute;width: 1px;}#sk-container-id-1 div.sk-estimator {font-family: monospace;background-color: #f0f8ff;border: 1px dotted black;border-radius: 0.25em;box-sizing: border-box;margin-bottom: 0.5em;}#sk-container-id-1 div.sk-estimator:hover {background-color: #d4ebff;}#sk-container-id-1 div.sk-parallel-item::after {content: \"\";width: 100%;border-bottom: 1px solid gray;flex-grow: 1;}#sk-container-id-1 div.sk-label:hover label.sk-toggleable__label {background-color: #d4ebff;}#sk-container-id-1 div.sk-serial::before {content: \"\";position: absolute;border-left: 1px solid gray;box-sizing: border-box;top: 0;bottom: 0;left: 50%;z-index: 0;}#sk-container-id-1 div.sk-serial {display: flex;flex-direction: column;align-items: center;background-color: white;padding-right: 0.2em;padding-left: 0.2em;position: relative;}#sk-container-id-1 div.sk-item {position: relative;z-index: 1;}#sk-container-id-1 div.sk-parallel {display: flex;align-items: stretch;justify-content: center;background-color: white;position: relative;}#sk-container-id-1 div.sk-item::before, #sk-container-id-1 div.sk-parallel-item::before {content: \"\";position: absolute;border-left: 1px solid gray;box-sizing: border-box;top: 0;bottom: 0;left: 50%;z-index: -1;}#sk-container-id-1 div.sk-parallel-item {display: flex;flex-direction: column;z-index: 1;position: relative;background-color: white;}#sk-container-id-1 div.sk-parallel-item:first-child::after {align-self: flex-end;width: 50%;}#sk-container-id-1 div.sk-parallel-item:last-child::after {align-self: flex-start;width: 50%;}#sk-container-id-1 div.sk-parallel-item:only-child::after {width: 0;}#sk-container-id-1 div.sk-dashed-wrapped {border: 1px dashed gray;margin: 0 0.4em 0.5em 0.4em;box-sizing: border-box;padding-bottom: 0.4em;background-color: white;}#sk-container-id-1 div.sk-label label {font-family: monospace;font-weight: bold;display: inline-block;line-height: 1.2em;}#sk-container-id-1 div.sk-label-container {text-align: center;}#sk-container-id-1 div.sk-container {/* jupyter's `normalize.less` sets `[hidden] { display: none; }` but bootstrap.min.css set `[hidden] { display: none !important; }` so we also need the `!important` here to be able to override the default hidden behavior on the sphinx rendered scikit-learn.org. See: https://github.com/scikit-learn/scikit-learn/issues/21755 */display: inline-block !important;position: relative;}#sk-container-id-1 div.sk-text-repr-fallback {display: none;}</style><div id=\"sk-container-id-1\" class=\"sk-top-container\"><div class=\"sk-text-repr-fallback\"><pre>LinearRegression()</pre><b>In a Jupyter environment, please rerun this cell to show the HTML representation or trust the notebook. <br />On GitHub, the HTML representation is unable to render, please try loading this page with nbviewer.org.</b></div><div class=\"sk-container\" hidden><div class=\"sk-item\"><div class=\"sk-estimator sk-toggleable\"><input class=\"sk-toggleable__control sk-hidden--visually\" id=\"sk-estimator-id-1\" type=\"checkbox\" checked><label for=\"sk-estimator-id-1\" class=\"sk-toggleable__label sk-toggleable__label-arrow\">LinearRegression</label><div class=\"sk-toggleable__content\"><pre>LinearRegression()</pre></div></div></div></div></div>"
            ],
            "text/plain": [
              "LinearRegression()"
            ]
          },
          "execution_count": 4,
          "metadata": {},
          "output_type": "execute_result"
        }
      ],
      "source": [
        "model = LinearRegression()\n",
        "model.fit(train_data, train_label)"
      ]
    },
    {
      "cell_type": "markdown",
      "metadata": {
        "id": "2Bc7EjlTGXaw"
      },
      "source": [
        "### Predicting the Outcome"
      ]
    },
    {
      "cell_type": "code",
      "execution_count": 5,
      "metadata": {
        "colab": {
          "base_uri": "https://localhost:8080/"
        },
        "id": "lUV6oqSoGbZb",
        "outputId": "06e534d9-7093-4709-88fe-9c0d00b20e4e"
      },
      "outputs": [
        {
          "data": {
            "text/plain": [
              "array([33338.78586786, 25167.29608701,  4084.17412999,  2794.74103193,\n",
              "        2938.37757456,  8353.2183354 ,  1014.4969071 , 35236.64247895,\n",
              "        8655.68574512,  8352.69669345,  4144.51531134,  6102.21229715,\n",
              "       36086.09190275, 32150.48377767,  5860.49555474, 37525.27085328,\n",
              "       27231.22716957,  9583.31744421, 30383.14737719,  8177.80592451,\n",
              "        5355.72855182,  9736.62529782,  3604.34937492, 18728.46429771,\n",
              "       11384.8230596 ,  8961.48983497,  7279.02557089, 38600.65492467,\n",
              "        3275.71277676,   326.50391805,  7258.9430399 ,  9508.02711725,\n",
              "        5730.48750835, 41383.98203989,  7175.78933331,  5804.34985611,\n",
              "        5672.35106763,  3344.34945959,  6599.46285659, 11066.0031261 ,\n",
              "        7535.6868575 , 10976.66999079, 15652.81213182,  2918.93029209,\n",
              "       11504.42093219, 11568.42732254, 11937.72756578,  6742.43972654,\n",
              "        9965.4565102 , 28631.65998459,  1527.28572643,  2430.88736869,\n",
              "        9202.04609179, 10540.89887912, 13193.01309506, 27032.91224018,\n",
              "        1045.40723792, 12640.39774719,  5115.52800469, 15075.05240543,\n",
              "        6463.65807172, 30881.28296542, 25011.08215576,  5046.8057985 ,\n",
              "       33955.26104744, 37183.23428088,  5335.31894254, 11191.32167294,\n",
              "       11517.71134677, 33902.71678445, 10633.86875235,  5324.84091333,\n",
              "       10878.77926154, 12577.3355576 ,   236.95904284,  7688.51839738,\n",
              "       37292.10887034, 13106.23847801, 19379.3996973 ,  9351.42905543,\n",
              "       12630.0906395 , 11401.51046405, 39195.93317653,  1885.5178199 ,\n",
              "        7839.63461203, 30309.80709434, 16326.39445578,  4631.31314677,\n",
              "       11303.05427375,  3769.6315387 ,  6068.8854858 ,  7416.12883215,\n",
              "        4353.30700102, 10436.47048389, 10198.27825671,  8067.87636219,\n",
              "        9347.66834732, 17322.40586598, 12624.62564946, 11831.88072556,\n",
              "       11355.2863484 ,  3220.40495534, 10378.55574023,  7132.90692216,\n",
              "       14541.90968516, 11408.44230306, 15788.47303219, 31672.3248763 ,\n",
              "       11415.63386297,  2825.57531712, 27152.24954592, 27371.22335031,\n",
              "        4094.16634638, 12046.8763032 ,  6456.22634077,  5655.00947778,\n",
              "        4571.98181033,  3580.52472478,  4538.99612127, 35813.8267472 ,\n",
              "       10997.46820055, 12854.11244766,  3202.62133667,  8977.90894524,\n",
              "       10473.87061466, 29548.1389817 ,  3862.39287301, 10115.97196151,\n",
              "       35449.56766627, 10716.68134146, 12016.36318607,  5220.12335979,\n",
              "       13029.51127744, 13724.27910279, 14294.95138158, 10474.21855707,\n",
              "          69.58337343, 14669.84148744,  6114.34272416,  7901.77967781,\n",
              "       34327.07908695, 10797.7158596 ,  5433.27161695,  1680.86507521,\n",
              "       11453.82806207,  9323.79756296,  8208.37559593, 10234.24375393,\n",
              "       17178.58069876,  6886.21648979,  9673.1636296 ,  5425.70587337,\n",
              "       39828.20129396,  9459.51273761, 13763.51390416, 12100.34937899,\n",
              "        8219.16901445, 10524.83724546, 12240.68491029,   858.43913263,\n",
              "       13174.32635667, 11213.52563245,  4154.26999091,  7100.22081147,\n",
              "       31546.91087028, 11397.30911101,  4121.92536422,  5759.00984828,\n",
              "       33703.6245289 , 27387.81030632,  9526.33648125, 14695.66504857,\n",
              "       30562.87056927, 27241.76633792, -1156.90886894,  9581.89225956,\n",
              "       28899.65725708, 10907.75051169, 33951.08134054, 10899.75674338,\n",
              "       34942.27338935, 13813.31591716,  7240.64363307, 14633.86198614,\n",
              "         -79.65031483,  5034.4685995 ,  7155.40506916, 32158.89507561,\n",
              "        8443.61792636,  4777.16118622, 15545.33160314, 10256.40925009,\n",
              "       10288.15252532,  3257.60018767, 10371.19401946, 34977.52759241,\n",
              "        4565.63812471, 25035.2556342 ,  9705.01959042,  6789.09368402,\n",
              "        6030.55376904,  3387.51731982, 14748.39208238, 37127.77587523,\n",
              "       10866.23488893,  7213.67628316,  9581.42483544, 31426.58318964,\n",
              "       12036.39680483,  5327.42477672,  8934.24968106,  3544.04748632,\n",
              "        7739.07188316, 34164.2861919 ,  7354.98683652, 11356.15818394,\n",
              "        7486.48792296,   538.83504173, 11511.16183149,  2613.44871425,\n",
              "        9569.51158938, 12812.89821013,  8164.42413278,  3575.66412204,\n",
              "       11446.89798999,  1882.72854982,  6145.32904415, 35842.4296777 ,\n",
              "       30396.69481995, 28004.70128854,  8382.72160762,  7973.28622129,\n",
              "        7646.25715562,  1971.38346344,   739.47958433,  1495.92611889,\n",
              "        4279.28262617, 32332.18193601, 23278.78194169, -1894.87087081,\n",
              "       26634.2599487 , 24322.57974057,  6039.70621609,  5661.71730462,\n",
              "       13237.96269557,  1704.68972535,  -111.00992237,  5171.64199615,\n",
              "       15561.19145406,  9171.09000979,  9803.47578072, 17212.04231851,\n",
              "        2323.61576678, 11734.89771744, 26664.86398008,  6592.71741234,\n",
              "       30139.70818687, 11788.69431631,  3912.32561237,  1843.46566524,\n",
              "        5671.78910532, 39154.45020327, 14040.48346574,  8027.27381632,\n",
              "        6714.33815715, 15221.09721978,   961.01928638, 12842.47923846])"
            ]
          },
          "execution_count": 5,
          "metadata": {},
          "output_type": "execute_result"
        }
      ],
      "source": [
        "arr_predicted = model.predict(test_data)\n",
        "arr_predicted"
      ]
    },
    {
      "cell_type": "markdown",
      "metadata": {
        "id": "GHbY9M1KGtTP"
      },
      "source": [
        "### Testing Accuracy of Model"
      ]
    },
    {
      "cell_type": "code",
      "execution_count": 6,
      "metadata": {
        "colab": {
          "base_uri": "https://localhost:8080/"
        },
        "id": "T9Xo-t2QvOP_",
        "outputId": "c6a3abae-eda5-4ee6-a403-d7e07c11c759"
      },
      "outputs": [
        {
          "data": {
            "text/plain": [
              "3943.890789544419"
            ]
          },
          "execution_count": 6,
          "metadata": {},
          "output_type": "execute_result"
        }
      ],
      "source": [
        "#Mean Absolute Error\n",
        "mae = mean_absolute_error(test_label, arr_predicted)\n",
        "mae"
      ]
    },
    {
      "cell_type": "code",
      "execution_count": 7,
      "metadata": {
        "colab": {
          "base_uri": "https://localhost:8080/"
        },
        "id": "Ij3XuQX7iyRo",
        "outputId": "5699cad0-a066-4993-9a86-41e5e973844a"
      },
      "outputs": [
        {
          "data": {
            "text/plain": [
              "0.7706160229311481"
            ]
          },
          "execution_count": 7,
          "metadata": {},
          "output_type": "execute_result"
        }
      ],
      "source": [
        "#Accuracy of my Model\n",
        "model.score(test_data, test_label)"
      ]
    },
    {
      "cell_type": "code",
      "execution_count": 8,
      "metadata": {
        "colab": {
          "base_uri": "https://localhost:8080/"
        },
        "id": "gYJxF-ceGwpT",
        "outputId": "fbaa905c-6131-4f9c-9a29-5c4bfd8bf4ba"
      },
      "outputs": [
        {
          "data": {
            "text/plain": [
              "29905826.0572422"
            ]
          },
          "execution_count": 8,
          "metadata": {},
          "output_type": "execute_result"
        }
      ],
      "source": [
        "#Root Mean Squared Error\n",
        "rmse = mean_squared_error(test_label, arr_predicted)\n",
        "rmse"
      ]
    },
    {
      "cell_type": "code",
      "execution_count": 9,
      "metadata": {
        "colab": {
          "base_uri": "https://localhost:8080/"
        },
        "id": "nGoR-b-qvo35",
        "outputId": "3f7dc2c5-8876-4b43-9578-1d0e639d3245"
      },
      "outputs": [
        {
          "data": {
            "text/plain": [
              "0.4327357946462409"
            ]
          },
          "execution_count": 9,
          "metadata": {},
          "output_type": "execute_result"
        }
      ],
      "source": [
        "#Mean Absolute Percentage Error\n",
        "mape = mean_absolute_percentage_error(test_label, arr_predicted)\n",
        "mape"
      ]
    },
    {
      "cell_type": "markdown",
      "metadata": {
        "id": "cAcUYbZiUQO1"
      },
      "source": [
        "### Graph Plotting"
      ]
    },
    {
      "cell_type": "code",
      "execution_count": 10,
      "metadata": {
        "colab": {
          "base_uri": "https://localhost:8080/",
          "height": 265
        },
        "id": "XvW1Br4IU5fE",
        "outputId": "b209a2a3-aea4-46f5-aee9-e5ad25f5a858"
      },
      "outputs": [
        {
          "data": {
            "image/png": "[encoded data removed]",
            "text/plain": [
              "<Figure size 432x288 with 1 Axes>"
            ]
          },
          "metadata": {
            "needs_background": "light"
          },
          "output_type": "display_data"
        }
      ],
      "source": [
        "#Age\n",
        "plt.scatter(test_data['age'], arr_predicted)\n",
        "plt.show()"
      ]
    },
    {
      "cell_type": "code",
      "execution_count": 11,
      "metadata": {
        "colab": {
          "base_uri": "https://localhost:8080/",
          "height": 265
        },
        "id": "CyvvG0--Vyps",
        "outputId": "43f03bb2-3e12-4ede-a2f9-61f8c70d28ad"
      },
      "outputs": [
        {
          "data": {
            "image/png": "[encoded data removed]",
            "text/plain": [
              "<Figure size 432x288 with 1 Axes>"
            ]
          },
          "metadata": {
            "needs_background": "light"
          },
          "output_type": "display_data"
        }
      ],
      "source": [
        "#BMI\n",
        "plt.scatter(test_data['bmi'], arr_predicted)\n",
        "plt.show()"
      ]
    }
  ],
  "metadata": {
    "colab": {
      "collapsed_sections": [],
      "name": "2021519_Q2.ipynb",
      "provenance": []
    },
    "kernelspec": {
      "display_name": "Python 3.10.0 64-bit",
      "language": "python",
      "name": "python3"
    },
    "language_info": {
      "codemirror_mode": {
        "name": "ipython",
        "version": 3
      },
      "file_extension": ".py",
      "mimetype": "text/x-python",
      "name": "python",
      "nbconvert_exporter": "python",
      "pygments_lexer": "ipython3",
      "version": "3.10.0"
    },
    "vscode": {
      "interpreter": {
        "hash": "aee8b7b246df8f9039afb4144a1f6fd8d2ca17a180786b69acc140d282b71a49"
      }
    }
  },
  "nbformat": 4,
  "nbformat_minor": 0
}
